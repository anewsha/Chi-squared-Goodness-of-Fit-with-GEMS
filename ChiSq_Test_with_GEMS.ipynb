{
 "cells": [
  {
   "cell_type": "markdown",
   "id": "6e96e943",
   "metadata": {},
   "source": [
    "# Chi Squared Goodness of Fit\n",
    "\n",
    "## Goal: *Check if Colors of GEMS are Unifomly distributed*"
   ]
  },
  {
   "cell_type": "markdown",
   "id": "6dcfd4a1",
   "metadata": {},
   "source": [
    "# Outline\n",
    "\n",
    "1. [Step 1: Took 5 packets of gems.](#step-1-took-5-packets-of-gems)\n",
    "2. [Step 2: Arranged the colors](#step-2-arranged-the-colors)\n",
    "3. [Step 3: Stated my hypothesis](#step-3-stated-my-hypothesis)\n",
    "4. [Step 4: Calculated Chi2](#step-4-calculated-chi²)\n",
    "5. [Step 5: Reject / Fail to Reject the Null Hypothesis](#step-5-decision---reject-or-fail-to-reject-h₀)\n",
    "6. [Conclusion](#Conclusion)"
   ]
  },
  {
   "cell_type": "markdown",
   "id": "b996d3f2",
   "metadata": {},
   "source": [
    "<a name=\"step-1-took-5-packets-of-gems\"></a>\n",
    "## Step 1: Took 5 packets of gems.\n",
    "- Each packet had **9 gems**\n",
    "- Resisted from eating them (this was the hardest part)"
   ]
  },
  {
   "cell_type": "markdown",
   "id": "86b11ab0",
   "metadata": {},
   "source": [
    "<img src=\"./docs/images/1.jpg\" width=\"500\" height=\"500\">"
   ]
  },
  {
   "cell_type": "code",
   "execution_count": 76,
   "id": "1dc24712",
   "metadata": {},
   "outputs": [],
   "source": [
    "import pandas as pd\n",
    "from scipy.stats import chi2,chisquare"
   ]
  },
  {
   "cell_type": "markdown",
   "id": "2b85a3ae",
   "metadata": {},
   "source": [
    "<a name=\"step-2-arranged-the-colors\"></a>\n",
    "## Step 2: Arrange the colors\n",
    "- Sorted and counted how many of each color appeared\n",
    "- This gives us the **observed data** from our sample"
   ]
  },
  {
   "cell_type": "markdown",
   "id": "62fad647",
   "metadata": {},
   "source": [
    "<img src=\"./docs/images/2.jpg\" width=\"600\" height=\"500\">"
   ]
  },
  {
   "cell_type": "code",
   "execution_count": 77,
   "id": "9dacc094",
   "metadata": {},
   "outputs": [],
   "source": [
    "observed_gems = pd.DataFrame([{\n",
    "    \"Blue\": 8,\n",
    "    \"Light Pink\": 9,\n",
    "    \"Green\": 5,\n",
    "    \"Purple\": 6,\n",
    "    \"Yellow\": 2,\n",
    "    \"Dark Pink\": 7,\n",
    "    \"Orange\": 8\n",
    "}])"
   ]
  },
  {
   "cell_type": "code",
   "execution_count": 78,
   "id": "11ddf2df",
   "metadata": {},
   "outputs": [
    {
     "data": {
      "text/html": [
       "<div>\n",
       "<style scoped>\n",
       "    .dataframe tbody tr th:only-of-type {\n",
       "        vertical-align: middle;\n",
       "    }\n",
       "\n",
       "    .dataframe tbody tr th {\n",
       "        vertical-align: top;\n",
       "    }\n",
       "\n",
       "    .dataframe thead th {\n",
       "        text-align: right;\n",
       "    }\n",
       "</style>\n",
       "<table border=\"1\" class=\"dataframe\">\n",
       "  <thead>\n",
       "    <tr style=\"text-align: right;\">\n",
       "      <th></th>\n",
       "      <th>Blue</th>\n",
       "      <th>Light Pink</th>\n",
       "      <th>Green</th>\n",
       "      <th>Purple</th>\n",
       "      <th>Yellow</th>\n",
       "      <th>Dark Pink</th>\n",
       "      <th>Orange</th>\n",
       "    </tr>\n",
       "  </thead>\n",
       "  <tbody>\n",
       "    <tr>\n",
       "      <th>0</th>\n",
       "      <td>8</td>\n",
       "      <td>9</td>\n",
       "      <td>5</td>\n",
       "      <td>6</td>\n",
       "      <td>2</td>\n",
       "      <td>7</td>\n",
       "      <td>8</td>\n",
       "    </tr>\n",
       "  </tbody>\n",
       "</table>\n",
       "</div>"
      ],
      "text/plain": [
       "   Blue  Light Pink  Green  Purple  Yellow  Dark Pink  Orange\n",
       "0     8           9      5       6       2          7       8"
      ]
     },
     "execution_count": 78,
     "metadata": {},
     "output_type": "execute_result"
    }
   ],
   "source": [
    "observed_gems"
   ]
  },
  {
   "cell_type": "code",
   "execution_count": 79,
   "id": "d495227e",
   "metadata": {},
   "outputs": [],
   "source": [
    "observed_gems = observed_gems.transpose()\n"
   ]
  },
  {
   "cell_type": "code",
   "execution_count": 80,
   "id": "af953a2d",
   "metadata": {},
   "outputs": [
    {
     "data": {
      "text/html": [
       "<div>\n",
       "<style scoped>\n",
       "    .dataframe tbody tr th:only-of-type {\n",
       "        vertical-align: middle;\n",
       "    }\n",
       "\n",
       "    .dataframe tbody tr th {\n",
       "        vertical-align: top;\n",
       "    }\n",
       "\n",
       "    .dataframe thead th {\n",
       "        text-align: right;\n",
       "    }\n",
       "</style>\n",
       "<table border=\"1\" class=\"dataframe\">\n",
       "  <thead>\n",
       "    <tr style=\"text-align: right;\">\n",
       "      <th></th>\n",
       "      <th>0</th>\n",
       "    </tr>\n",
       "  </thead>\n",
       "  <tbody>\n",
       "    <tr>\n",
       "      <th>Blue</th>\n",
       "      <td>8</td>\n",
       "    </tr>\n",
       "    <tr>\n",
       "      <th>Light Pink</th>\n",
       "      <td>9</td>\n",
       "    </tr>\n",
       "    <tr>\n",
       "      <th>Green</th>\n",
       "      <td>5</td>\n",
       "    </tr>\n",
       "    <tr>\n",
       "      <th>Purple</th>\n",
       "      <td>6</td>\n",
       "    </tr>\n",
       "    <tr>\n",
       "      <th>Yellow</th>\n",
       "      <td>2</td>\n",
       "    </tr>\n",
       "    <tr>\n",
       "      <th>Dark Pink</th>\n",
       "      <td>7</td>\n",
       "    </tr>\n",
       "    <tr>\n",
       "      <th>Orange</th>\n",
       "      <td>8</td>\n",
       "    </tr>\n",
       "  </tbody>\n",
       "</table>\n",
       "</div>"
      ],
      "text/plain": [
       "            0\n",
       "Blue        8\n",
       "Light Pink  9\n",
       "Green       5\n",
       "Purple      6\n",
       "Yellow      2\n",
       "Dark Pink   7\n",
       "Orange      8"
      ]
     },
     "execution_count": 80,
     "metadata": {},
     "output_type": "execute_result"
    }
   ],
   "source": [
    "observed_gems"
   ]
  },
  {
   "cell_type": "code",
   "execution_count": 82,
   "id": "1f5194b1",
   "metadata": {},
   "outputs": [
    {
     "data": {
      "text/html": [
       "<div>\n",
       "<style scoped>\n",
       "    .dataframe tbody tr th:only-of-type {\n",
       "        vertical-align: middle;\n",
       "    }\n",
       "\n",
       "    .dataframe tbody tr th {\n",
       "        vertical-align: top;\n",
       "    }\n",
       "\n",
       "    .dataframe thead th {\n",
       "        text-align: right;\n",
       "    }\n",
       "</style>\n",
       "<table border=\"1\" class=\"dataframe\">\n",
       "  <thead>\n",
       "    <tr style=\"text-align: right;\">\n",
       "      <th></th>\n",
       "      <th>Observed</th>\n",
       "    </tr>\n",
       "  </thead>\n",
       "  <tbody>\n",
       "    <tr>\n",
       "      <th>Blue</th>\n",
       "      <td>8</td>\n",
       "    </tr>\n",
       "    <tr>\n",
       "      <th>Light Pink</th>\n",
       "      <td>9</td>\n",
       "    </tr>\n",
       "    <tr>\n",
       "      <th>Green</th>\n",
       "      <td>5</td>\n",
       "    </tr>\n",
       "    <tr>\n",
       "      <th>Purple</th>\n",
       "      <td>6</td>\n",
       "    </tr>\n",
       "    <tr>\n",
       "      <th>Yellow</th>\n",
       "      <td>2</td>\n",
       "    </tr>\n",
       "    <tr>\n",
       "      <th>Dark Pink</th>\n",
       "      <td>7</td>\n",
       "    </tr>\n",
       "    <tr>\n",
       "      <th>Orange</th>\n",
       "      <td>8</td>\n",
       "    </tr>\n",
       "  </tbody>\n",
       "</table>\n",
       "</div>"
      ],
      "text/plain": [
       "            Observed\n",
       "Blue               8\n",
       "Light Pink         9\n",
       "Green              5\n",
       "Purple             6\n",
       "Yellow             2\n",
       "Dark Pink          7\n",
       "Orange             8"
      ]
     },
     "execution_count": 82,
     "metadata": {},
     "output_type": "execute_result"
    }
   ],
   "source": [
    "observed_gems.columns = [\"Observed\"]\n",
    "observed_gems"
   ]
  },
  {
   "cell_type": "markdown",
   "id": "44a3720b",
   "metadata": {},
   "source": [
    "<a name=\"step-3-stated-my-hypothesis\"></a>\n",
    "## Step 3: Stating My Hypothesis\n",
    "\n",
    "- **H0 (Null Hypothesis):** All colors are equally likely  \n",
    "- **H1 (Alternative Hypothesis):** At least one color is not equally likely\n",
    "\n"
   ]
  },
  {
   "cell_type": "markdown",
   "id": "19958c4c",
   "metadata": {},
   "source": [
    "<img src=\"./docs/images/3.jpg\" width=\"750\" height=\"500\">"
   ]
  },
  {
   "cell_type": "code",
   "execution_count": 83,
   "id": "68193223",
   "metadata": {},
   "outputs": [],
   "source": [
    "#Uniform distribution\n",
    "obs_sum = observed_gems[\"Observed\"].sum()\n",
    "obs_count = observed_gems[\"Observed\"].count()"
   ]
  },
  {
   "cell_type": "code",
   "execution_count": 84,
   "id": "4c21b65a",
   "metadata": {},
   "outputs": [],
   "source": [
    "# Since uniform distribution\n",
    "expected_gems = pd.DataFrame([{\n",
    "    \"Blue\": obs_sum/obs_count ,\n",
    "    \"Light Pink\": obs_sum/obs_count ,\n",
    "    \"Green\": obs_sum/obs_count ,\n",
    "    \"Purple\": obs_sum/obs_count ,\n",
    "    \"Yellow\": obs_sum/obs_count ,\n",
    "    \"Dark Pink\": obs_sum/obs_count ,\n",
    "    \"Orange\": obs_sum/obs_count\n",
    "}])"
   ]
  },
  {
   "cell_type": "code",
   "execution_count": 85,
   "id": "129e1d8f",
   "metadata": {},
   "outputs": [
    {
     "data": {
      "text/html": [
       "<div>\n",
       "<style scoped>\n",
       "    .dataframe tbody tr th:only-of-type {\n",
       "        vertical-align: middle;\n",
       "    }\n",
       "\n",
       "    .dataframe tbody tr th {\n",
       "        vertical-align: top;\n",
       "    }\n",
       "\n",
       "    .dataframe thead th {\n",
       "        text-align: right;\n",
       "    }\n",
       "</style>\n",
       "<table border=\"1\" class=\"dataframe\">\n",
       "  <thead>\n",
       "    <tr style=\"text-align: right;\">\n",
       "      <th></th>\n",
       "      <th>Blue</th>\n",
       "      <th>Light Pink</th>\n",
       "      <th>Green</th>\n",
       "      <th>Purple</th>\n",
       "      <th>Yellow</th>\n",
       "      <th>Dark Pink</th>\n",
       "      <th>Orange</th>\n",
       "    </tr>\n",
       "  </thead>\n",
       "  <tbody>\n",
       "    <tr>\n",
       "      <th>0</th>\n",
       "      <td>6.428571</td>\n",
       "      <td>6.428571</td>\n",
       "      <td>6.428571</td>\n",
       "      <td>6.428571</td>\n",
       "      <td>6.428571</td>\n",
       "      <td>6.428571</td>\n",
       "      <td>6.428571</td>\n",
       "    </tr>\n",
       "  </tbody>\n",
       "</table>\n",
       "</div>"
      ],
      "text/plain": [
       "       Blue  Light Pink     Green    Purple    Yellow  Dark Pink    Orange\n",
       "0  6.428571    6.428571  6.428571  6.428571  6.428571   6.428571  6.428571"
      ]
     },
     "execution_count": 85,
     "metadata": {},
     "output_type": "execute_result"
    }
   ],
   "source": [
    "expected_gems"
   ]
  },
  {
   "cell_type": "code",
   "execution_count": 86,
   "id": "b8875bc5",
   "metadata": {},
   "outputs": [],
   "source": [
    "expected_gems=expected_gems.transpose()"
   ]
  },
  {
   "cell_type": "code",
   "execution_count": 87,
   "id": "8b35798a",
   "metadata": {},
   "outputs": [
    {
     "data": {
      "text/html": [
       "<div>\n",
       "<style scoped>\n",
       "    .dataframe tbody tr th:only-of-type {\n",
       "        vertical-align: middle;\n",
       "    }\n",
       "\n",
       "    .dataframe tbody tr th {\n",
       "        vertical-align: top;\n",
       "    }\n",
       "\n",
       "    .dataframe thead th {\n",
       "        text-align: right;\n",
       "    }\n",
       "</style>\n",
       "<table border=\"1\" class=\"dataframe\">\n",
       "  <thead>\n",
       "    <tr style=\"text-align: right;\">\n",
       "      <th></th>\n",
       "      <th>Expected</th>\n",
       "    </tr>\n",
       "  </thead>\n",
       "  <tbody>\n",
       "    <tr>\n",
       "      <th>Blue</th>\n",
       "      <td>6.428571</td>\n",
       "    </tr>\n",
       "    <tr>\n",
       "      <th>Light Pink</th>\n",
       "      <td>6.428571</td>\n",
       "    </tr>\n",
       "    <tr>\n",
       "      <th>Green</th>\n",
       "      <td>6.428571</td>\n",
       "    </tr>\n",
       "    <tr>\n",
       "      <th>Purple</th>\n",
       "      <td>6.428571</td>\n",
       "    </tr>\n",
       "    <tr>\n",
       "      <th>Yellow</th>\n",
       "      <td>6.428571</td>\n",
       "    </tr>\n",
       "    <tr>\n",
       "      <th>Dark Pink</th>\n",
       "      <td>6.428571</td>\n",
       "    </tr>\n",
       "    <tr>\n",
       "      <th>Orange</th>\n",
       "      <td>6.428571</td>\n",
       "    </tr>\n",
       "  </tbody>\n",
       "</table>\n",
       "</div>"
      ],
      "text/plain": [
       "            Expected\n",
       "Blue        6.428571\n",
       "Light Pink  6.428571\n",
       "Green       6.428571\n",
       "Purple      6.428571\n",
       "Yellow      6.428571\n",
       "Dark Pink   6.428571\n",
       "Orange      6.428571"
      ]
     },
     "execution_count": 87,
     "metadata": {},
     "output_type": "execute_result"
    }
   ],
   "source": [
    "expected_gems = expected_gems.rename(columns={0: \"Expected\"})\n",
    "expected_gems"
   ]
  },
  {
   "cell_type": "markdown",
   "id": "ca69845d",
   "metadata": {},
   "source": [
    "<a name=\"step-4-calculated-chi2\"></a>\n",
    "## Step 4: Calculate Chi2 \n",
    "\n",
    "- Found the expected frequency for each color assuming equal probability\n",
    "- Compared observed vs expected values\n",
    "- Calculated:\n",
    "  - **Chi-Square Statistic**\n"
   ]
  },
  {
   "cell_type": "markdown",
   "id": "51454a09",
   "metadata": {},
   "source": [
    "<img src=\"./docs/images/4.jpg\" width=\"700\" height=\"500\">"
   ]
  },
  {
   "cell_type": "code",
   "execution_count": 67,
   "id": "758287c2",
   "metadata": {},
   "outputs": [],
   "source": [
    "calc_table = pd.merge(observed_gems, expected_gems, left_index=True, right_index=True)"
   ]
  },
  {
   "cell_type": "code",
   "execution_count": 68,
   "id": "2adbf3ff",
   "metadata": {},
   "outputs": [
    {
     "data": {
      "text/html": [
       "<div>\n",
       "<style scoped>\n",
       "    .dataframe tbody tr th:only-of-type {\n",
       "        vertical-align: middle;\n",
       "    }\n",
       "\n",
       "    .dataframe tbody tr th {\n",
       "        vertical-align: top;\n",
       "    }\n",
       "\n",
       "    .dataframe thead th {\n",
       "        text-align: right;\n",
       "    }\n",
       "</style>\n",
       "<table border=\"1\" class=\"dataframe\">\n",
       "  <thead>\n",
       "    <tr style=\"text-align: right;\">\n",
       "      <th></th>\n",
       "      <th>Observed</th>\n",
       "      <th>Expected</th>\n",
       "    </tr>\n",
       "  </thead>\n",
       "  <tbody>\n",
       "    <tr>\n",
       "      <th>Blue</th>\n",
       "      <td>8</td>\n",
       "      <td>6.428571</td>\n",
       "    </tr>\n",
       "    <tr>\n",
       "      <th>Light Pink</th>\n",
       "      <td>9</td>\n",
       "      <td>6.428571</td>\n",
       "    </tr>\n",
       "    <tr>\n",
       "      <th>Green</th>\n",
       "      <td>5</td>\n",
       "      <td>6.428571</td>\n",
       "    </tr>\n",
       "    <tr>\n",
       "      <th>Purple</th>\n",
       "      <td>6</td>\n",
       "      <td>6.428571</td>\n",
       "    </tr>\n",
       "    <tr>\n",
       "      <th>Yellow</th>\n",
       "      <td>2</td>\n",
       "      <td>6.428571</td>\n",
       "    </tr>\n",
       "    <tr>\n",
       "      <th>Dark Pink</th>\n",
       "      <td>7</td>\n",
       "      <td>6.428571</td>\n",
       "    </tr>\n",
       "    <tr>\n",
       "      <th>Orange</th>\n",
       "      <td>8</td>\n",
       "      <td>6.428571</td>\n",
       "    </tr>\n",
       "  </tbody>\n",
       "</table>\n",
       "</div>"
      ],
      "text/plain": [
       "            Observed  Expected\n",
       "Blue               8  6.428571\n",
       "Light Pink         9  6.428571\n",
       "Green              5  6.428571\n",
       "Purple             6  6.428571\n",
       "Yellow             2  6.428571\n",
       "Dark Pink          7  6.428571\n",
       "Orange             8  6.428571"
      ]
     },
     "execution_count": 68,
     "metadata": {},
     "output_type": "execute_result"
    }
   ],
   "source": [
    "calc_table"
   ]
  },
  {
   "cell_type": "code",
   "execution_count": 71,
   "id": "32dce662",
   "metadata": {},
   "outputs": [],
   "source": [
    "ChiSq_calc,P_value_calc = chisquare(f_obs=calc_table[\"Observed\"], f_exp=calc_table[\"Expected\"])"
   ]
  },
  {
   "cell_type": "code",
   "execution_count": 72,
   "id": "f6a22094",
   "metadata": {},
   "outputs": [
    {
     "data": {
      "text/plain": [
       "(5.2444444444444445, 0.5128652198163051)"
      ]
     },
     "execution_count": 72,
     "metadata": {},
     "output_type": "execute_result"
    }
   ],
   "source": [
    "ChiSq_calc,P_value_calc"
   ]
  },
  {
   "cell_type": "code",
   "execution_count": 73,
   "id": "c86a44b4",
   "metadata": {},
   "outputs": [
    {
     "name": "stdout",
     "output_type": "stream",
     "text": [
      "12.591587243743977\n"
     ]
    }
   ],
   "source": [
    "alpha = 0.05\n",
    "dof = len(observed_gems) - 1\n",
    "ChiSq_critical = chi2.ppf(1-alpha, df=dof)\n",
    "print(ChiSq_critical)"
   ]
  },
  {
   "cell_type": "markdown",
   "id": "ad612feb",
   "metadata": {},
   "source": [
    "<a name=\"step-5-decision---reject-or-fail-to-reject-h₀\"></a>\n",
    "## Step 5: Reject / Fail to Reject the Null Hypothesis\n",
    "- Calculated:\n",
    "  - **Degrees of Freedom**\n",
    "  - **Critical value**\n",
    "  - **p-value**\n",
    "\n",
    "### Chi-Square Statistic Method\n",
    "- **ChiSq_calc > ChiSq_critical**:  **Reject** the null hypothesis  \n",
    "  → The result is unlikely to occur if H₀ is true.\n",
    "- **ChiSq_calc ≤ ChiSq_critical**:  **Fail to reject** the null hypothesis  \n",
    "  → The result is not unusual enough to reject H₀.\n",
    "\n",
    "###  p-value Method\n",
    "- **p_value < α**:  **Reject** the null hypothesis  \n",
    "  → The probability of getting this kind of result is too low assuming H₀ is true.\n",
    "- **p_value ≥ α**: **Fail to reject** the null hypothesis  \n",
    "  → The probability of getting this result is high enough that it doesn't seem unusual.\n"
   ]
  },
  {
   "cell_type": "markdown",
   "id": "abd4d71e",
   "metadata": {},
   "source": [
    "<img src=\"./docs/images/5.jpg\" width=\"500\" height=\"500\">"
   ]
  },
  {
   "cell_type": "code",
   "execution_count": 74,
   "id": "fe638d6b",
   "metadata": {},
   "outputs": [
    {
     "name": "stdout",
     "output_type": "stream",
     "text": [
      "Fail to reject the null hypothesis\n"
     ]
    }
   ],
   "source": [
    "if ChiSq_calc > ChiSq_critical:\n",
    "    print(\"Reject the null hypothesis\")\n",
    "else:\n",
    "    print(\"Fail to reject the null hypothesis\")"
   ]
  },
  {
   "cell_type": "code",
   "execution_count": null,
   "id": "72f527f4",
   "metadata": {},
   "outputs": [
    {
     "name": "stdout",
     "output_type": "stream",
     "text": [
      "Fail to reject the null hypothesis\n"
     ]
    }
   ],
   "source": [
    "if P_value_calc < alpha:\n",
    "    print(\"Reject the null hypothesis\")\n",
    "else:\n",
    "    print(\"Fail to reject the null hypothesis\")"
   ]
  },
  {
   "cell_type": "markdown",
   "id": "8383e1f6",
   "metadata": {},
   "source": [
    "<a name=\"conclusion\"></a>\n",
    "# Conclusion\n",
    "\n",
    "- In this sample, the **Chi-Square value was not large enough** to reject the null hypothesis.  \n",
    "- So, we **fail to reject H₀** — meaning we don't have strong evidence that the gem colors are unequally distributed.\n",
    "- It *doesn't* prove that all colors are perfectly equal in the entire population — just that based on this small sample of 5 packets (45 gems), we can't say otherwise."
   ]
  },
  {
   "cell_type": "code",
   "execution_count": null,
   "id": "f6e8f4d7",
   "metadata": {},
   "outputs": [],
   "source": []
  }
 ],
 "metadata": {
  "kernelspec": {
   "display_name": "Python 3",
   "language": "python",
   "name": "python3"
  },
  "language_info": {
   "codemirror_mode": {
    "name": "ipython",
    "version": 3
   },
   "file_extension": ".py",
   "mimetype": "text/x-python",
   "name": "python",
   "nbconvert_exporter": "python",
   "pygments_lexer": "ipython3",
   "version": "3.12.3"
  }
 },
 "nbformat": 4,
 "nbformat_minor": 5
}
